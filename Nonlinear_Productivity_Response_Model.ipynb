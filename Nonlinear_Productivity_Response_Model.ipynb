{
  "nbformat": 4,
  "nbformat_minor": 0,
  "metadata": {
    "colab": {
      "provenance": [],
      "toc_visible": true,
      "authorship_tag": "ABX9TyPGJxO/ebJoryk5MELg3vvs",
      "include_colab_link": true
    },
    "kernelspec": {
      "name": "python3",
      "display_name": "Python 3"
    },
    "language_info": {
      "name": "python"
    }
  },
  "cells": [
    {
      "cell_type": "markdown",
      "metadata": {
        "id": "view-in-github",
        "colab_type": "text"
      },
      "source": [
        "<a href=\"https://colab.research.google.com/github/jinjingZ/Nonlinear_Productivity_Response_Model/blob/main/Nonlinear_Productivity_Response_Model.ipynb\" target=\"_parent\"><img src=\"https://colab.research.google.com/assets/colab-badge.svg\" alt=\"Open In Colab\"/></a>"
      ]
    },
    {
      "cell_type": "code",
      "execution_count": null,
      "metadata": {
        "id": "taAJdKiPnhtT"
      },
      "outputs": [],
      "source": []
    },
    {
      "cell_type": "code",
      "source": [
        "import numpy as np\n",
        "import pandas as pd\n",
        "import matplotlib as plt\n",
        "from scipy.optimize import curve_fit"
      ],
      "metadata": {
        "id": "ix6Jo9FDocMO"
      },
      "execution_count": 1,
      "outputs": []
    },
    {
      "cell_type": "code",
      "source": [
        "# Step 1 Creating fake data for modeling\n",
        "def contribution_scoring(hours, coeff_elasticity, coeff_shape):\n",
        "    return  coeff_elasticity * (coeff_shape * hours)/ (1 + coeff_shape * hours)\n",
        "\n",
        "np.random.seed(123)\n",
        "\n",
        "days = 30\n",
        "data = {'Mary Hours': np.random.uniform(5, 10, days),\n",
        "        'John Hours': np.random.uniform(5, 10, days),\n",
        "        'Jane Hours': np.random.uniform(5, 10, days)}\n",
        "df   = pd.DataFrame(data)\n",
        "\n",
        "# Actual Parameters\n",
        "true_params = {'Mary':  [12, 4],\n",
        "               'John':  [16, 0.4],\n",
        "               'Jane':  [13, 1.5]}\n",
        "\n",
        "# Generate Individual Contributions\n",
        "for name in true_params.keys():\n",
        "    df[f'{name} Contribution'] = contribution_scoring(df[f'{name} Hours'], * true_params[name])\n",
        "\n",
        "# Compute Team Total Contribution\n",
        "df['Team Contribution'] = df[[i for i in df.columns if 'Contribution' in i]].sum(axis=1)"
      ],
      "metadata": {
        "id": "fZ3JBwMEp9Ha"
      },
      "execution_count": 4,
      "outputs": []
    },
    {
      "cell_type": "code",
      "source": [
        "# Step2 Prepare data for modeling\n",
        "# Drop individual contributions(as we assume they're unkown)\n",
        "df1 = df.drop(columns = [i for i in df.columns if 'Contribution' in i and 'Team' not i i])\n",
        "df1['Date'] = pd.date_range(freq = 'D', period = days, start = '2025-01-01')\n",
        "df1.to_par"
      ],
      "metadata": {
        "id": "kj-ca5xCsZ9z"
      },
      "execution_count": null,
      "outputs": []
    },
    {
      "cell_type": "code",
      "source": [],
      "metadata": {
        "id": "AEjnYzbErk8O"
      },
      "execution_count": null,
      "outputs": []
    },
    {
      "cell_type": "code",
      "source": [],
      "metadata": {
        "id": "hAO10RG9p9Os"
      },
      "execution_count": null,
      "outputs": []
    },
    {
      "cell_type": "code",
      "source": [],
      "metadata": {
        "id": "90CsWv6lp9RW"
      },
      "execution_count": null,
      "outputs": []
    }
  ]
}